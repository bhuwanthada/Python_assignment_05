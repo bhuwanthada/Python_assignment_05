{
  "nbformat": 4,
  "nbformat_minor": 0,
  "metadata": {
    "colab": {
      "name": "Python_assignment_05",
      "provenance": [],
      "authorship_tag": "ABX9TyPur2LEJExR1euthd3KHJT+",
      "include_colab_link": true
    },
    "kernelspec": {
      "name": "python3",
      "display_name": "Python 3"
    }
  },
  "cells": [
    {
      "cell_type": "markdown",
      "metadata": {
        "id": "view-in-github",
        "colab_type": "text"
      },
      "source": [
        "<a href=\"https://colab.research.google.com/github/bhuwanthada/Python_assignment_05/blob/master/Python_assignment_05.ipynb\" target=\"_parent\"><img src=\"https://colab.research.google.com/assets/colab-badge.svg\" alt=\"Open In Colab\"/></a>"
      ]
    },
    {
      "cell_type": "markdown",
      "metadata": {
        "id": "6_fGvKo3dsPR",
        "colab_type": "text"
      },
      "source": [
        "1. Write a function to compute 5/0 and use try/except to catch the exceptions. "
      ]
    },
    {
      "cell_type": "code",
      "metadata": {
        "id": "ryapj6pgdl6K",
        "colab_type": "code",
        "colab": {
          "base_uri": "https://localhost:8080/",
          "height": 204
        },
        "outputId": "e9c6a195-58b6-477d-cfc0-a3c9e88833b7"
      },
      "source": [
        "class MathCalculation:\n",
        "\n",
        "  def __init__(self,num1,num2):\n",
        "    self.num1 = num1\n",
        "    self.num2 = num2\n",
        "  \n",
        "  def __str__(self):\n",
        "    return \"Given number {} and {} use for Math calculation.\".format(self.num1,self.num2)\n",
        "  \n",
        "  def sum_number(self):\n",
        "    c = self.num1+self.num2\n",
        "    return \"Sum of the numbers : {} and {} is : {}\".format(self.num1,self.num2,c)\n",
        "  \n",
        "  def sub_number(self):\n",
        "    c = self.num1-self.num2\n",
        "    return \"Subs of the numbers : {} and {} is : {}\".format(self.num1,self.num2,c)\n",
        "  \n",
        "  def mul_number(self):\n",
        "    c = self.num1 * self.num2\n",
        "    return \"Multiplication of the given numbers : {} and {} is : {}\".format(self.num1,self.num2,c)\n",
        "  \n",
        "  def div_number(self):\n",
        "    try:\n",
        "      c = self.num1/self.num2\n",
        "    except ZeroDivisionError as e:\n",
        "      return \"Denominator can't be zero for divison: {}\".format(e)\n",
        "    else:\n",
        "      return \"Division of the numbers : {} and {} is : {}\".format(self.num1,self.num2,c)\n",
        "\n",
        "m1 = MathCalculation(10,0)\n",
        "print(m1)\n",
        "print(m1.sum_number())\n",
        "print(m1.sub_number())\n",
        "print(m1.mul_number())\n",
        "print(m1.div_number())\n",
        "m1 = MathCalculation(10,2)\n",
        "print(\"********************\")\n",
        "print(m1)\n",
        "print(m1.sum_number())\n",
        "print(m1.sub_number())\n",
        "print(m1.mul_number())\n",
        "print(m1.div_number())\n",
        "\n"
      ],
      "execution_count": 8,
      "outputs": [
        {
          "output_type": "stream",
          "text": [
            "Given number 10 and 0 use for Math calculation.\n",
            "Sum of the numbers : 10 and 0 is : 10\n",
            "Subs of the numbers : 10 and 0 is : 10\n",
            "Multiplication of the given numbers : 10 and 0 is : 0\n",
            "Denominator can't be zero for divison: division by zero\n",
            "********************\n",
            "Given number 10 and 2 use for Math calculation.\n",
            "Sum of the numbers : 10 and 2 is : 12\n",
            "Subs of the numbers : 10 and 2 is : 8\n",
            "Multiplication of the given numbers : 10 and 2 is : 20\n",
            "Division of the numbers : 10 and 2 is : 5.0\n"
          ],
          "name": "stdout"
        }
      ]
    },
    {
      "cell_type": "markdown",
      "metadata": {
        "id": "0ddhyXabgbCL",
        "colab_type": "text"
      },
      "source": [
        "2. Implement a Python program to generate all sentences where subject is in [\"Americans\", \"Indians\"] and verb is in [\"Play\", \"watch\"] and the object is in [\"Baseball\",\"cricket\"]. \n",
        "Hint: Subject,Verb and Object should be declared in the program as shown below. \n",
        "subjects=[\"Americans \",\"Indians\"] verbs=[\"play\",\"watch\"] objects=[\"Baseball\",\"Cricket\"] \n",
        "Output should come as below: \n",
        "Americans play Baseball. Americans play Cricket. Americans watch Baseball. Americans watch Cricket. Indians play Baseball. Indians play Cricket. Indians watch Baseball. Indians watch Cricket. \n"
      ]
    },
    {
      "cell_type": "code",
      "metadata": {
        "id": "Xi0eyge1ghb4",
        "colab_type": "code",
        "colab": {
          "base_uri": "https://localhost:8080/",
          "height": 153
        },
        "outputId": "29249cd6-3eaa-4b9c-f971-83644496b1af"
      },
      "source": [
        "# Approach_01 using Functions:\n",
        "def create_statement(sub,verb,obj):\n",
        "  for sub_info in sub:\n",
        "    for verb_info in verb:\n",
        "      for obj_info in obj:\n",
        "        print(sub_info,verb_info,obj_info+\".\")\n",
        "\n",
        "\n",
        "def get_information():\n",
        "  l1 = ['Americans','Indians']\n",
        "  l2 = ['play','watch']\n",
        "  l3 = ['Baseball','Cricket']\n",
        "  create_statement(l1,l2,l3)\n",
        "def main():\n",
        "  get_information()\n",
        "main()"
      ],
      "execution_count": 13,
      "outputs": [
        {
          "output_type": "stream",
          "text": [
            "Americans play Baseball.\n",
            "Americans play Cricket.\n",
            "Americans watch Baseball.\n",
            "Americans watch Cricket.\n",
            "Indians play Baseball.\n",
            "Indians play Cricket.\n",
            "Indians watch Baseball.\n",
            "Indians watch Cricket.\n"
          ],
          "name": "stdout"
        }
      ]
    },
    {
      "cell_type": "code",
      "metadata": {
        "id": "fvXmfbnhhmLf",
        "colab_type": "code",
        "colab": {
          "base_uri": "https://localhost:8080/",
          "height": 153
        },
        "outputId": "29595141-7ee2-4a69-9429-964f648f7790"
      },
      "source": [
        "# Approach using Class_Object:\n",
        "class Statement:\n",
        "\n",
        "  def __init__(self,sub,verb,obj):\n",
        "    self.sub = sub\n",
        "    self.verb = verb\n",
        "    self.obj = obj\n",
        "  \n",
        "  def create_statement(self):\n",
        "    l = []\n",
        "    for sub_info in self.sub:\n",
        "      for verb_info in self.verb:\n",
        "        for obj_info in self.obj:\n",
        "          statement = sub_info+\" \"+verb_info+\" \"+obj_info+\".\"\n",
        "          l.append(statement)\n",
        "    return l\n",
        "s1 = Statement(['Americans','Indians'],['play','watch'],['Baseball','Cricket'])\n",
        "res = s1.create_statement()\n",
        "for statement in res:\n",
        "  print(statement)"
      ],
      "execution_count": 29,
      "outputs": [
        {
          "output_type": "stream",
          "text": [
            "Americans play Baseball.\n",
            "Americans play Cricket.\n",
            "Americans watch Baseball.\n",
            "Americans watch Cricket.\n",
            "Indians play Baseball.\n",
            "Indians play Cricket.\n",
            "Indians watch Baseball.\n",
            "Indians watch Cricket.\n"
          ],
          "name": "stdout"
        }
      ]
    },
    {
      "cell_type": "code",
      "metadata": {
        "id": "paoerD4sjKor",
        "colab_type": "code",
        "colab": {
          "base_uri": "https://localhost:8080/",
          "height": 153
        },
        "outputId": "7ba70616-5b80-48ec-83ae-7835a01c57cb"
      },
      "source": [
        "# approach 03:\n",
        "l1 = ['Americans','Indians']\n",
        "l2 = ['play','watch']\n",
        "l3 = ['Baseball','Cricket']\n",
        "result = (x+\" \"+ y+\" \"+z+\".\" for x in l1 for y in l2 for z in l3)\n",
        "for data in result:\n",
        "  print(data)"
      ],
      "execution_count": 28,
      "outputs": [
        {
          "output_type": "stream",
          "text": [
            "Americans play Baseball.\n",
            "Americans play Cricket.\n",
            "Americans watch Baseball.\n",
            "Americans watch Cricket.\n",
            "Indians play Baseball.\n",
            "Indians play Cricket.\n",
            "Indians watch Baseball.\n",
            "Indians watch Cricket.\n"
          ],
          "name": "stdout"
        }
      ]
    }
  ]
}